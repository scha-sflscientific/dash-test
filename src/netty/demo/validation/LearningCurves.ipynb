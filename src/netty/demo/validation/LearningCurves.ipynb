{
  "nbformat": 4,
  "nbformat_minor": 0,
  "metadata": {
    "colab": {
      "name": "LearningCurves.ipynb",
      "provenance": [],
      "collapsed_sections": []
    },
    "kernelspec": {
      "name": "python3",
      "display_name": "Python 3"
    }
  },
  "cells": [
    {
      "cell_type": "code",
      "metadata": {
        "id": "ZT1SWejtra8-",
        "colab_type": "code",
        "colab": {}
      },
      "source": [
        ""
      ],
      "execution_count": null,
      "outputs": []
    },
    {
      "cell_type": "code",
      "metadata": {
        "id": "00RY7p0BsKoO",
        "colab_type": "code",
        "colab": {}
      },
      "source": [
        "#import packages\n",
        "import pandas as pd\n",
        "import matplotlib.pyplot as plt\n",
        "import numpy as np\n",
        "import random\n",
        "import xgboost as xgb\n",
        "from sklearn.model_selection import learning_curve\n",
        "from sklearn.model_selection import ShuffleSplit"
      ],
      "execution_count": 1,
      "outputs": []
    },
    {
      "cell_type": "code",
      "metadata": {
        "id": "Bf7XnDHDsKup",
        "colab_type": "code",
        "colab": {
          "base_uri": "https://localhost:8080/",
          "height": 34
        },
        "outputId": "a0ad4492-62c2-4ca1-e823-db397d973d93"
      },
      "source": [
        "import matplotlib.pyplot as plt\n",
        "\n",
        "def sfl_defaults():\n",
        "\tplt.style.use('classic')\n",
        "\tplt.rcParams['figure.figsize'] = [8.0, 5.0]\n",
        "\tplt.rcParams['figure.facecolor']='w'\n",
        "\n",
        "\t# text size\n",
        "\tplt.rcParams['xtick.labelsize']=14\n",
        "\tplt.rcParams['ytick.labelsize']=14\n",
        "\tplt.rcParams['axes.labelsize']=15\n",
        "\tplt.rcParams['axes.titlesize']=16\n",
        "\tplt.rcParams['legend.fontsize']=12\n",
        "\n",
        "\t# grids\n",
        "\tplt.rcParams['grid.color'] = 'k'\n",
        "\tplt.rcParams['grid.linestyle'] = ':'\n",
        "\tplt.rcParams['grid.linewidth'] = 0.5\n",
        "\n",
        "\t# \n",
        "\tprint('SFL style loaded...')\n",
        "\n",
        "sfl_defaults()"
      ],
      "execution_count": 2,
      "outputs": [
        {
          "output_type": "stream",
          "text": [
            "SFL style loaded...\n"
          ],
          "name": "stdout"
        }
      ]
    },
    {
      "cell_type": "code",
      "metadata": {
        "id": "zehTxHcx17f0",
        "colab_type": "code",
        "colab": {}
      },
      "source": [
        ""
      ],
      "execution_count": 2,
      "outputs": []
    },
    {
      "cell_type": "code",
      "metadata": {
        "id": "iCz_pyI_zhXf",
        "colab_type": "code",
        "colab": {}
      },
      "source": [
        "# Two custom metrics for the learning curves\n",
        "  # Other readily available metrics can be found in section 3.3.1.1 in: https://scikit-learn.org/stable/modules/model_evaluation.html\n",
        "def neg_mape_scorer(estimator, x, y):\n",
        "    \"\"\"\n",
        "    This function creates a scorer for negative mean percentage error\n",
        "    Parameters:\n",
        "    - Estimator: This is a model estimator with a predict method\n",
        "    - x: This is the features for the model\n",
        "    - y: This is the target variable for the model\n",
        "    \"\"\"\n",
        "    y_pred = estimator.predict(x)\n",
        "    y, y_pred = np.array(y), np.array(y_pred)\n",
        "    neg_mape = - np.nanmean(np.abs((y - y_pred) / y)) * 100\n",
        "    return neg_mape\n",
        "\n",
        "def neg_rmse_scorer(estimator, x, y):\n",
        "    \"\"\"\n",
        "    This function creates a scorer for negative root mean square error\n",
        "    Parameters:\n",
        "    - Estimator: This is a model estimator with a predict method\n",
        "    - x: This is the features for the model\n",
        "    - y: This is the target variable for the model\n",
        "    \"\"\"\n",
        "    y_pred = estimator.predict(x)\n",
        "    y_pred = estimator.predict(x)\n",
        "    neg_rmse = - np.sqrt(np.mean((y - y_pred)*(y - y_pred)))\n",
        "    #need to sqrt\n",
        "    return neg_rmse"
      ],
      "execution_count": 3,
      "outputs": []
    },
    {
      "cell_type": "code",
      "metadata": {
        "id": "UUjIkBPYrh4z",
        "colab_type": "code",
        "colab": {}
      },
      "source": [
        "def plot_learning_curve(estimator, title, X, y, axes=None, ylim=None, cv=None,\n",
        "                        n_jobs=None, train_sizes=np.linspace(.1, 1.0, 5)):\n",
        "    \"\"\"\n",
        "    This function generate the test and training learning curves\n",
        "\n",
        "    Parameters\n",
        "    ----------\n",
        "    estimator : object type that implements the \"fit\" and \"predict\" methods\n",
        "        An object of that type which is cloned for each validation.\n",
        "\n",
        "    title : string\n",
        "        Title for the chart.\n",
        "\n",
        "    X : array-like, shape (n_samples, n_features)\n",
        "        Training vector, where n_samples is the number of samples and\n",
        "        n_features is the number of features.\n",
        "\n",
        "    y : array-like, shape (n_samples) or (n_samples, n_features), optional\n",
        "        Target relative to X for classification or regression;\n",
        "        None for unsupervised learning.\n",
        "\n",
        "    axes : array of 3 axes, optional (default=None)\n",
        "        Axes to use for plotting the curves.\n",
        "\n",
        "    ylim : tuple, shape (ymin, ymax), optional\n",
        "        Defines minimum and maximum yvalues plotted.\n",
        "\n",
        "    cv : int, cross-validation generator or an iterable, optional\n",
        "        Determines the cross-validation splitting strategy.\n",
        "        Possible inputs for cv are:\n",
        "\n",
        "          - None, to use the default 5-fold cross-validation,\n",
        "          - integer, to specify the number of folds.\n",
        "          - :term:`CV splitter`,\n",
        "          - An iterable yielding (train, test) splits as arrays of indices.\n",
        "\n",
        "        For integer/None inputs, if ``y`` is binary or multiclass,\n",
        "        :class:`StratifiedKFold` used. If the estimator is not a classifier\n",
        "        or if ``y`` is neither binary nor multiclass, :class:`KFold` is used.\n",
        "\n",
        "        Refer :ref:`User Guide <cross_validation>` for the various\n",
        "        cross-validators that can be used here.\n",
        "\n",
        "    n_jobs : int or None, optional (default=None)\n",
        "        Number of jobs to run in parallel.\n",
        "        ``None`` means 1 unless in a :obj:`joblib.parallel_backend` context.\n",
        "        ``-1`` means using all processors. See :term:`Glossary <n_jobs>`\n",
        "        for more details.\n",
        "\n",
        "    train_sizes : array-like, shape (n_ticks,), dtype float or int\n",
        "        Relative or absolute numbers of training examples that will be used to\n",
        "        generate the learning curve. If the dtype is float, it is regarded as a\n",
        "        fraction of the maximum size of the training set (that is determined\n",
        "        by the selected validation method), i.e. it has to be within (0, 1].\n",
        "        Otherwise it is interpreted as absolute sizes of the training sets.\n",
        "        Note that for classification the number of samples usually have to\n",
        "        be big enough to contain at least one sample from each class.\n",
        "        (default: np.linspace(0.1, 1.0, 5))\n",
        "    \"\"\"\n",
        "\n",
        "    train_sizes, train_scores, test_scores, fit_times, _ = \\\n",
        "        learning_curve(estimator, X, y, cv=cv, n_jobs=n_jobs,\n",
        "                       train_sizes=train_sizes,\n",
        "                       return_times=True,\n",
        "                      scoring=scoring_metric)\n",
        "    train_scores_mean = np.mean(train_scores, axis=1)\n",
        "    train_scores_std = np.std(train_scores, axis=1)\n",
        "    test_scores_mean = np.mean(test_scores, axis=1)\n",
        "    test_scores_std = np.std(test_scores, axis=1)\n",
        "\n",
        "    # Plot learning curve\n",
        "    plt.grid()\n",
        "    plt.fill_between(train_sizes, train_scores_mean - train_scores_std,\n",
        "                         train_scores_mean + train_scores_std, alpha=0.1,\n",
        "                         color='r')\n",
        "    plt.fill_between(train_sizes, test_scores_mean - test_scores_std,\n",
        "                         test_scores_mean + test_scores_std, alpha=0.1,\n",
        "                         color='g')\n",
        "    plt.plot(train_sizes, train_scores_mean, 'o-', color='r',\n",
        "                 label=\"Training score\")\n",
        "    plt.plot(train_sizes, test_scores_mean, 'o-', color='g',\n",
        "                 label='Cross-validation score')\n",
        "    plt.legend(loc='best')\n",
        "    plt.title(title)\n",
        "    if ylim is not None:\n",
        "        plt.set_ylim(*ylim) \n",
        "    plt.xlabel('Training examples')\n",
        "    plt.ylabel('Score')\n",
        "\n",
        "\n",
        "    return plt"
      ],
      "execution_count": 4,
      "outputs": []
    },
    {
      "cell_type": "code",
      "metadata": {
        "id": "xq0p-brH2ee7",
        "colab_type": "code",
        "colab": {}
      },
      "source": [
        ""
      ],
      "execution_count": 4,
      "outputs": []
    },
    {
      "cell_type": "code",
      "metadata": {
        "id": "_HD29gLZridt",
        "colab_type": "code",
        "colab": {
          "base_uri": "https://localhost:8080/",
          "height": 415
        },
        "outputId": "baa5775c-1a69-4f09-b77d-14bedb734685"
      },
      "source": [
        "#dummy dataset\n",
        "df = pd.DataFrame(np.random.random(size=(1000, 6)), \n",
        "                  columns=list('ABCDEY'))\n",
        "y_train = df['Y']\n",
        "x_train = df[['A','B','C','D','E']]\n",
        "\n",
        "# demonstration\n",
        "scoring_metric = 'neg_mean_absolute_error'\n",
        "title = 'Learning Curves'\n",
        "\n",
        "# Cross validation with 100 iterations to get smoother mean test and train\n",
        "# score curves, each time with 20% data randomly selected as a validation set.\n",
        "cv = ShuffleSplit(n_splits=100, test_size=0.2, random_state=0)\n",
        "estimator = xgb.XGBRegressor()\n",
        "plot_learning_curve(estimator, title, x_train, y_train, cv=cv, n_jobs=-1)\n",
        "plt.show()"
      ],
      "execution_count": 5,
      "outputs": [
        {
          "output_type": "display_data",
          "data": {
            "image/png": "[encoded data removed]",
            "text/plain": [
              "<Figure size 640x400 with 1 Axes>"
            ]
          },
          "metadata": {
            "tags": []
          }
        }
      ]
    },
    {
      "cell_type": "code",
      "metadata": {
        "id": "8pPJRAds2bMg",
        "colab_type": "code",
        "colab": {}
      },
      "source": [
        ""
      ],
      "execution_count": 5,
      "outputs": []
    }
  ]
}