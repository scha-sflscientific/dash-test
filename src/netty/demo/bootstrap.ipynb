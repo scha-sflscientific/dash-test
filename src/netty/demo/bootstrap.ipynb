{
 "cells": [
  {
   "cell_type": "code",
   "execution_count": 1,
   "metadata": {},
   "outputs": [],
   "source": [
    "from random import choices\n",
    "import numpy as np\n",
    "from math import erf\n",
    "\n",
    "def non_parametric_bootstrap(X, T, num_sim=1000, interval=\"pivot\", confidence=.95):\n",
    "    \"\"\"\n",
    "    Bootstrap a test statistic and generate a confidence interval.\n",
    "    \n",
    "    Args:\n",
    "        X: (np.array) the data to be sampled\n",
    "        T: (function) the test statistic to be estimated\n",
    "        n_sim: (int) the number of bootstrap samples to generate\n",
    "        interval: (str) the type of confidence interval to compute\n",
    "            normal: assumes the bootstrapped statistic is normally distributed\n",
    "            pivot: uses quantiles to estimate the bias of the statistic, more general method\n",
    "        confidence: (float) the power of the confidence interval\n",
    "        \n",
    "    Returns:\n",
    "        confidence interval corresponding to the designated confidence level\n",
    "    \"\"\"\n",
    "    bootstrap_samples = np.zeros(num_sim)\n",
    "    test_statistic = T(X)\n",
    "    num_data = X.shape[0]\n",
    "    alpha = 1-confidence\n",
    "    \n",
    "    \n",
    "    for i in range(num_sim):\n",
    "        indices = np.random.randint(0, num_data, num_data)\n",
    "        sample = X[indices]\n",
    "        bootstrap_samples[i] = T(sample)\n",
    "        \n",
    "    bootstrap_stan_err = np.sqrt(bootstrap_samples.var())\n",
    "    \n",
    "    if interval == \"normal\":\n",
    "        z_alpha = erf(1-alpha/2)\n",
    "        left = test_statistic-z_alpha*bootstrap_stan_err\n",
    "        right = test_statistic+z_alpha*bootstrap_stan_err\n",
    "        return (left, right)\n",
    "    \n",
    "    elif interval == \"pivot\":\n",
    "        left = 2*test_statistic - np.quantile(bootstrap_samples, 1-alpha/2)\n",
    "        right = 2*test_statistic - np.quantile(bootstrap_samples, alpha/2)\n",
    "        return (left, right)\n",
    "    \n",
    "    else:\n",
    "        raise ValueError(\"Unknown interval type\")\n",
    "        "
   ]
  },
  {
   "cell_type": "code",
   "execution_count": 2,
   "metadata": {},
   "outputs": [
    {
     "data": {
      "text/plain": [
       "Text(0.5, 1.0, 'Small sample normal distribution')"
      ]
     },
     "execution_count": 2,
     "metadata": {},
     "output_type": "execute_result"
    },
    {
     "data": {
      "image/png": "[encoded data removed]",
      "text/plain": [
       "<Figure size 432x288 with 1 Axes>"
      ]
     },
     "metadata": {
      "needs_background": "light"
     },
     "output_type": "display_data"
    }
   ],
   "source": [
    "import matplotlib.pyplot as plt\n",
    "sample = np.random.normal(size=20)\n",
    "plt.hist(sample,bins=15)\n",
    "plt.xlabel(\"Value\")\n",
    "plt.ylabel(\"Counts\")\n",
    "plt.title(\"Small sample normal distribution\")"
   ]
  },
  {
   "cell_type": "code",
   "execution_count": 3,
   "metadata": {},
   "outputs": [
    {
     "data": {
      "text/plain": [
       "0.20133480479131496"
      ]
     },
     "execution_count": 3,
     "metadata": {},
     "output_type": "execute_result"
    }
   ],
   "source": [
    "sample.mean()"
   ]
  },
  {
   "cell_type": "code",
   "execution_count": 5,
   "metadata": {},
   "outputs": [
    {
     "data": {
      "text/plain": [
       "(-0.31567077318818587, 0.6657581450103071)"
      ]
     },
     "execution_count": 5,
     "metadata": {},
     "output_type": "execute_result"
    }
   ],
   "source": [
    "non_parametric_bootstrap(sample, lambda x:x.mean())"
   ]
  },
  {
   "cell_type": "code",
   "execution_count": null,
   "metadata": {},
   "outputs": [],
   "source": []
  }
 ],
 "metadata": {
  "kernelspec": {
   "display_name": "Python 3",
   "language": "python",
   "name": "python3"
  },
  "language_info": {
   "codemirror_mode": {
    "name": "ipython",
    "version": 3
   },
   "file_extension": ".py",
   "mimetype": "text/x-python",
   "name": "python",
   "nbconvert_exporter": "python",
   "pygments_lexer": "ipython3",
   "version": "3.7.6"
  }
 },
 "nbformat": 4,
 "nbformat_minor": 4
}
